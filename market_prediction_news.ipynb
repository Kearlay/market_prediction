{
 "cells": [
  {
   "cell_type": "markdown",
   "metadata": {},
   "source": [
    "<h1 align=\"center\"> Market Prediction based on News Headlines <h1>\n",
    "\n",
    "\n",
    "<h2 align='right'> Euiyoung Chung <h2>\n",
    "## Data Descriptions:\n",
    "\n",
    "There are two channels of data provided in this dataset:\n",
    "\n",
    "News data: I crawled historical news headlines from Reddit WorldNews Channel. They are ranked by reddit users' votes, and only the top 25 headlines are considered for a single date. (Range: 2008-06-08 to 2016-07-01)\n",
    "\n",
    "Stock data: Dow Jones Industrial Average (DJIA) is used to \"prove the concept\". (Range: 2008-08-08 to 2016-07-01)\n",
    "\n",
    "## Objectives:\n",
    "\n",
    "The objective of this notebook is to build a binary classifier that returns 0 (down) or 1 (up). Specifically, 1 means an increase in Adj Close value and 0 means a decrease. Given a set of text data, i.e. news headlines, I will apply natural language processing to extract features. The final performance is \n",
    "\n",
    "## Table of Contents:\n",
    "\n",
    "1. **Introduction** <br>\n",
    "a) Data Import <br>\n",
    "b) Data Cleaning<br><br>\n",
    "\n",
    "2. **Feature Engineering**<br>\n",
    "a) Counter Vectorization<br>\n",
    "b) TF-IDF Vectorization<br>\n",
    "c) Feature Selection<br><br>\n",
    "\n",
    "3. **Predictive Modeling**  \n",
    "a) Binary Classification<br>\n",
    "b) Multi-class Classification<br><br>\n",
    "\n",
    "4. **Evaluation**"
   ]
  },
  {
   "cell_type": "markdown",
   "metadata": {},
   "source": [
    "<br>\n",
    "<br>\n",
    "# 1. Introduction\n",
    "\n",
    "## Data Import"
   ]
  },
  {
   "cell_type": "code",
   "execution_count": 432,
   "metadata": {},
   "outputs": [],
   "source": [
    "import warnings\n",
    "warnings.filterwarnings(\"ignore\")\n",
    "\n",
    "import pandas as pd\n",
    "import numpy as np\n",
    "import matplotlib.pyplot as plt\n",
    "import seaborn as sns\n",
    "\n",
    "# Iteration\n",
    "import tqdm\n",
    "\n",
    "# Text Feature Engineering\n",
    "import string\n",
    "import re\n",
    "from nltk.corpus import stopwords\n",
    "from nltk.stem import PorterStemmer\n",
    "from sklearn.feature_extraction.text import CountVectorizer, TfidfVectorizer\n",
    "from sklearn.model_selection import train_test_split\n",
    "from sklearn.decomposition import TruncatedSVD\n",
    "\n",
    "# Modeling\n",
    "from sklearn.model_selection import train_test_split, GridSearchCV, RandomizedSearchCV\n",
    "from sklearn.ensemble import RandomForestClassifier\n",
    "from sklearn.metrics import accuracy_score, classification_report, roc_curve, auc\n",
    "from xgboost import XGBClassifier\n",
    "from tensorflow.keras import layers\n",
    "from tensorflow.keras.models import Sequential\n",
    "from tensorflow.keras.optimizers import Adam\n",
    "from tensorflow.keras.callbacks import ModelCheckpoint\n",
    "from sklearn.svm import LinearSVC\n",
    "from sklearn.tree import tree\n",
    "from sklearn.feature_selection import chi2, SelectFromModel, SelectKBest\n",
    "from sklearn.base import clone\n",
    "from sklearn.preprocessing import Normalizer\n",
    "from sklearn.pipeline import make_pipeline\n",
    "from sklearn.model_selection import StratifiedKFold, cross_validate\n",
    "from sklearn.linear_model import LogisticRegression\n",
    "\n",
    "from collections import Counter\n",
    "\n",
    "plt.style.use('fivethirtyeight')\n",
    "%matplotlib inline"
   ]
  },
  {
   "cell_type": "code",
   "execution_count": 4,
   "metadata": {},
   "outputs": [
    {
     "name": "stdout",
     "output_type": "stream",
     "text": [
      "news data shape:  (73608, 2)\n",
      "stock data shape:  (1989, 7)\n"
     ]
    }
   ],
   "source": [
    "news = pd.read_csv(\"RedditNews.csv\", parse_dates=['Date'])\n",
    "stock = pd.read_csv(\"DJIA_table.csv\", parse_dates=['Date'])\n",
    "\n",
    "print(\"news data shape: \", news.shape)\n",
    "print(\"stock data shape: \", stock.shape)"
   ]
  },
  {
   "cell_type": "code",
   "execution_count": 5,
   "metadata": {},
   "outputs": [
    {
     "data": {
      "text/html": [
       "<div>\n",
       "<style scoped>\n",
       "    .dataframe tbody tr th:only-of-type {\n",
       "        vertical-align: middle;\n",
       "    }\n",
       "\n",
       "    .dataframe tbody tr th {\n",
       "        vertical-align: top;\n",
       "    }\n",
       "\n",
       "    .dataframe thead th {\n",
       "        text-align: right;\n",
       "    }\n",
       "</style>\n",
       "<table border=\"1\" class=\"dataframe\">\n",
       "  <thead>\n",
       "    <tr style=\"text-align: right;\">\n",
       "      <th></th>\n",
       "      <th>Date</th>\n",
       "      <th>News</th>\n",
       "    </tr>\n",
       "  </thead>\n",
       "  <tbody>\n",
       "    <tr>\n",
       "      <th>0</th>\n",
       "      <td>2016-07-01</td>\n",
       "      <td>A 117-year-old woman in Mexico City finally re...</td>\n",
       "    </tr>\n",
       "    <tr>\n",
       "      <th>1</th>\n",
       "      <td>2016-07-01</td>\n",
       "      <td>IMF chief backs Athens as permanent Olympic host</td>\n",
       "    </tr>\n",
       "    <tr>\n",
       "      <th>2</th>\n",
       "      <td>2016-07-01</td>\n",
       "      <td>The president of France says if Brexit won, so...</td>\n",
       "    </tr>\n",
       "    <tr>\n",
       "      <th>3</th>\n",
       "      <td>2016-07-01</td>\n",
       "      <td>British Man Who Must Give Police 24 Hours' Not...</td>\n",
       "    </tr>\n",
       "    <tr>\n",
       "      <th>4</th>\n",
       "      <td>2016-07-01</td>\n",
       "      <td>100+ Nobel laureates urge Greenpeace to stop o...</td>\n",
       "    </tr>\n",
       "  </tbody>\n",
       "</table>\n",
       "</div>"
      ],
      "text/plain": [
       "        Date                                               News\n",
       "0 2016-07-01  A 117-year-old woman in Mexico City finally re...\n",
       "1 2016-07-01   IMF chief backs Athens as permanent Olympic host\n",
       "2 2016-07-01  The president of France says if Brexit won, so...\n",
       "3 2016-07-01  British Man Who Must Give Police 24 Hours' Not...\n",
       "4 2016-07-01  100+ Nobel laureates urge Greenpeace to stop o..."
      ]
     },
     "execution_count": 5,
     "metadata": {},
     "output_type": "execute_result"
    }
   ],
   "source": [
    "news.head()"
   ]
  },
  {
   "cell_type": "code",
   "execution_count": 6,
   "metadata": {},
   "outputs": [
    {
     "data": {
      "text/html": [
       "<div>\n",
       "<style scoped>\n",
       "    .dataframe tbody tr th:only-of-type {\n",
       "        vertical-align: middle;\n",
       "    }\n",
       "\n",
       "    .dataframe tbody tr th {\n",
       "        vertical-align: top;\n",
       "    }\n",
       "\n",
       "    .dataframe thead th {\n",
       "        text-align: right;\n",
       "    }\n",
       "</style>\n",
       "<table border=\"1\" class=\"dataframe\">\n",
       "  <thead>\n",
       "    <tr style=\"text-align: right;\">\n",
       "      <th></th>\n",
       "      <th>Date</th>\n",
       "      <th>Open</th>\n",
       "      <th>High</th>\n",
       "      <th>Low</th>\n",
       "      <th>Close</th>\n",
       "      <th>Volume</th>\n",
       "      <th>Adj Close</th>\n",
       "    </tr>\n",
       "  </thead>\n",
       "  <tbody>\n",
       "    <tr>\n",
       "      <th>0</th>\n",
       "      <td>2016-07-01</td>\n",
       "      <td>17924.240234</td>\n",
       "      <td>18002.380859</td>\n",
       "      <td>17916.910156</td>\n",
       "      <td>17949.369141</td>\n",
       "      <td>82160000</td>\n",
       "      <td>17949.369141</td>\n",
       "    </tr>\n",
       "    <tr>\n",
       "      <th>1</th>\n",
       "      <td>2016-06-30</td>\n",
       "      <td>17712.759766</td>\n",
       "      <td>17930.609375</td>\n",
       "      <td>17711.800781</td>\n",
       "      <td>17929.990234</td>\n",
       "      <td>133030000</td>\n",
       "      <td>17929.990234</td>\n",
       "    </tr>\n",
       "    <tr>\n",
       "      <th>2</th>\n",
       "      <td>2016-06-29</td>\n",
       "      <td>17456.019531</td>\n",
       "      <td>17704.509766</td>\n",
       "      <td>17456.019531</td>\n",
       "      <td>17694.679688</td>\n",
       "      <td>106380000</td>\n",
       "      <td>17694.679688</td>\n",
       "    </tr>\n",
       "    <tr>\n",
       "      <th>3</th>\n",
       "      <td>2016-06-28</td>\n",
       "      <td>17190.509766</td>\n",
       "      <td>17409.720703</td>\n",
       "      <td>17190.509766</td>\n",
       "      <td>17409.720703</td>\n",
       "      <td>112190000</td>\n",
       "      <td>17409.720703</td>\n",
       "    </tr>\n",
       "    <tr>\n",
       "      <th>4</th>\n",
       "      <td>2016-06-27</td>\n",
       "      <td>17355.210938</td>\n",
       "      <td>17355.210938</td>\n",
       "      <td>17063.080078</td>\n",
       "      <td>17140.240234</td>\n",
       "      <td>138740000</td>\n",
       "      <td>17140.240234</td>\n",
       "    </tr>\n",
       "  </tbody>\n",
       "</table>\n",
       "</div>"
      ],
      "text/plain": [
       "        Date          Open      ...          Volume     Adj Close\n",
       "0 2016-07-01  17924.240234      ...        82160000  17949.369141\n",
       "1 2016-06-30  17712.759766      ...       133030000  17929.990234\n",
       "2 2016-06-29  17456.019531      ...       106380000  17694.679688\n",
       "3 2016-06-28  17190.509766      ...       112190000  17409.720703\n",
       "4 2016-06-27  17355.210938      ...       138740000  17140.240234\n",
       "\n",
       "[5 rows x 7 columns]"
      ]
     },
     "execution_count": 6,
     "metadata": {},
     "output_type": "execute_result"
    }
   ],
   "source": [
    "stock.head()"
   ]
  },
  {
   "cell_type": "code",
   "execution_count": 7,
   "metadata": {
    "scrolled": false
   },
   "outputs": [
    {
     "name": "stdout",
     "output_type": "stream",
     "text": [
      "news range:  2008-06-08 ~ 2016-07-01\n",
      "stock range: 2008-08-08 ~ 2016-07-01\n"
     ]
    }
   ],
   "source": [
    "print(\"news range:  {} ~ {}\".format(news['Date'].dt.date.min(), news['Date'].dt.date.max()))\n",
    "print(\"stock range: {} ~ {}\".format(stock['Date'].dt.date.min(), stock['Date'].dt.date.max()))"
   ]
  },
  {
   "cell_type": "code",
   "execution_count": 9,
   "metadata": {
    "scrolled": true
   },
   "outputs": [
    {
     "name": "stdout",
     "output_type": "stream",
     "text": [
      "There are 0 dates for stock data when no news headline exists\n",
      "There are 1 dates for news data when no stock price exists\n"
     ]
    }
   ],
   "source": [
    "def isSubSet(date1, date2):\n",
    "    for date in date1['Date'].dt.date.unique():\n",
    "        unique_date = set(date2['Date'].dt.date.unique())\n",
    "        how_many_missing = 0\n",
    "\n",
    "        if date not in unique_date:\n",
    "            how_many_missing += 1\n",
    "            \n",
    "    return how_many_missing\n",
    "        \n",
    "print(\"There are {} dates for stock data when no news headline exists\".format(isSubSet(stock, news)))\n",
    "print(\"There are {} dates for news data when no stock price exists\".format(isSubSet(news, stock)))"
   ]
  },
  {
   "cell_type": "markdown",
   "metadata": {},
   "source": [
    "These datasets have two different natures. First, it is a time series data with numeric values. Predictive models will be constructed to forecast the numeric values, i.e. stock prices. Second, the data contains extremely unorganized text data points. Again, the news headlines are listed over time. I will first clean up the text data for further analysis. "
   ]
  },
  {
   "cell_type": "markdown",
   "metadata": {},
   "source": [
    "<br>\n",
    "<br>\n",
    "## Data Cleaning\n",
    "\n",
    "**Approaches**\n",
    "- Drop redundant columns and create a new feature. \n",
    "- 'up_or_down' will be a binary label.\n",
    "- 'up_neutral_down' will be a multi-class label. Those observations with insignificant difference from the previous price will be labeled as neutral."
   ]
  },
  {
   "cell_type": "code",
   "execution_count": 50,
   "metadata": {},
   "outputs": [],
   "source": [
    "relative_diff = (stock['Adj Close'].diff()/stock['Volume']).fillna(0)"
   ]
  },
  {
   "cell_type": "code",
   "execution_count": 51,
   "metadata": {},
   "outputs": [
    {
     "data": {
      "image/png": "[encoded data removed]",
      "text/plain": [
       "<Figure size 1008x432 with 1 Axes>"
      ]
     },
     "metadata": {},
     "output_type": "display_data"
    }
   ],
   "source": [
    "plt.figure(figsize=(14,6))\n",
    "sns.distplot(relative_diff)\n",
    "plt.ticklabel_format(style='sci', axis='x', scilimits=(0,0))\n",
    "\n",
    "plt.title(\"Distribution of Adj Close Difference\")\n",
    "plt.ylabel('Count')\n",
    "plt.xlabel('Percentage(%)')\n",
    "plt.show()"
   ]
  },
  {
   "cell_type": "code",
   "execution_count": 120,
   "metadata": {
    "scrolled": true
   },
   "outputs": [
    {
     "name": "stdout",
     "output_type": "stream",
     "text": [
      "True     1541\n",
      "False     448\n",
      "dtype: int64\n"
     ]
    }
   ],
   "source": [
    "# within 1 std from mean is insignificant\n",
    "mean = relative_diff.mean()\n",
    "std = relative_diff.std()\n",
    "insignificant_diff = relative_diff.between(mean-std, mean+std)\n",
    "\n",
    "print(insignificant_diff.value_counts())"
   ]
  },
  {
   "cell_type": "code",
   "execution_count": 463,
   "metadata": {},
   "outputs": [
    {
     "data": {
      "text/html": [
       "<div>\n",
       "<style scoped>\n",
       "    .dataframe tbody tr th:only-of-type {\n",
       "        vertical-align: middle;\n",
       "    }\n",
       "\n",
       "    .dataframe tbody tr th {\n",
       "        vertical-align: top;\n",
       "    }\n",
       "\n",
       "    .dataframe thead th {\n",
       "        text-align: right;\n",
       "    }\n",
       "</style>\n",
       "<table border=\"1\" class=\"dataframe\">\n",
       "  <thead>\n",
       "    <tr style=\"text-align: right;\">\n",
       "      <th></th>\n",
       "      <th>level_0</th>\n",
       "      <th>index</th>\n",
       "      <th>Date</th>\n",
       "      <th>Open</th>\n",
       "      <th>High</th>\n",
       "      <th>Low</th>\n",
       "      <th>Close</th>\n",
       "      <th>Volume</th>\n",
       "      <th>Adj Close</th>\n",
       "      <th>up_neutral_down</th>\n",
       "      <th>up_or_down</th>\n",
       "    </tr>\n",
       "  </thead>\n",
       "  <tbody>\n",
       "    <tr>\n",
       "      <th>0</th>\n",
       "      <td>1</td>\n",
       "      <td>1987</td>\n",
       "      <td>2008-08-11</td>\n",
       "      <td>11729.669922</td>\n",
       "      <td>11867.110352</td>\n",
       "      <td>11675.530273</td>\n",
       "      <td>11782.349609</td>\n",
       "      <td>183190000</td>\n",
       "      <td>11782.349609</td>\n",
       "      <td>1</td>\n",
       "      <td>1</td>\n",
       "    </tr>\n",
       "    <tr>\n",
       "      <th>1</th>\n",
       "      <td>2</td>\n",
       "      <td>1986</td>\n",
       "      <td>2008-08-12</td>\n",
       "      <td>11781.700195</td>\n",
       "      <td>11782.349609</td>\n",
       "      <td>11601.519531</td>\n",
       "      <td>11642.469727</td>\n",
       "      <td>173590000</td>\n",
       "      <td>11642.469727</td>\n",
       "      <td>0</td>\n",
       "      <td>0</td>\n",
       "    </tr>\n",
       "    <tr>\n",
       "      <th>2</th>\n",
       "      <td>3</td>\n",
       "      <td>1985</td>\n",
       "      <td>2008-08-13</td>\n",
       "      <td>11632.809570</td>\n",
       "      <td>11633.780273</td>\n",
       "      <td>11453.339844</td>\n",
       "      <td>11532.959961</td>\n",
       "      <td>182550000</td>\n",
       "      <td>11532.959961</td>\n",
       "      <td>0</td>\n",
       "      <td>0</td>\n",
       "    </tr>\n",
       "  </tbody>\n",
       "</table>\n",
       "</div>"
      ],
      "text/plain": [
       "   level_0  index     ...     up_neutral_down  up_or_down\n",
       "0        1   1987     ...                   1           1\n",
       "1        2   1986     ...                   0           0\n",
       "2        3   1985     ...                   0           0\n",
       "\n",
       "[3 rows x 11 columns]"
      ]
     },
     "execution_count": 463,
     "metadata": {},
     "output_type": "execute_result"
    }
   ],
   "source": [
    "# Sort\n",
    "stock.sort_values(by='Date', axis=0, inplace=True)\n",
    "\n",
    "# Binary labels\n",
    "stock['up_or_down'] = (stock['Adj Close'].diff() > 0).astype('int')\n",
    "\n",
    "# Multiple labels\n",
    "stock['up_neutral_down'] = 1 # neutral\n",
    "stock['up_neutral_down'][relative_diff>relative_diff.std()] = 2 # up\n",
    "stock['up_neutral_down'][relative_diff<-relative_diff.std()] = 0 # down\n",
    "\n",
    "# Drop the first row where no previous date exists\n",
    "stock.drop(0, axis=0, inplace=True)\n",
    "stock.reset_index(inplace=True)\n",
    "\n",
    "stock.head(3)"
   ]
  },
  {
   "cell_type": "markdown",
   "metadata": {},
   "source": [
    "### News Headlines\n",
    "\n",
    "News headlines are messy. The lengths are different for each data point. Some dates have a more or less number of headlines than the majority of the others. I will consider all the aspects!"
   ]
  },
  {
   "cell_type": "code",
   "execution_count": 464,
   "metadata": {},
   "outputs": [
    {
     "name": "stdout",
     "output_type": "stream",
     "text": [
      "Number of headlines per date: [25 50 24 22 23]\n",
      "\n",
      " 25    2931\n",
      "23       5\n",
      "24       4\n",
      "50       2\n",
      "22       1\n",
      "dtype: int64\n"
     ]
    }
   ],
   "source": [
    "# Group by date\n",
    "by_date = news.groupby(['Date'])\n",
    "\n",
    "# See some dates have 22, 23, 24 or 50 headlines\n",
    "print(\"Number of headlines per date:\", by_date.size().unique())\n",
    "print(\"\\n\", by_date.size().value_counts())"
   ]
  },
  {
   "cell_type": "code",
   "execution_count": 465,
   "metadata": {},
   "outputs": [],
   "source": [
    "wide_news = []\n",
    "for name, group in by_date:\n",
    "    wide_news.append(group['News'].values)\n",
    "\n",
    "wide_news = pd.DataFrame(wide_news).iloc[:,:25]\n",
    "wide_news = wide_news.applymap(lambda x: x[1:] if x else '')\n",
    "wide_news['Date'] = by_date.groups"
   ]
  },
  {
   "cell_type": "code",
   "execution_count": 466,
   "metadata": {},
   "outputs": [
    {
     "data": {
      "text/html": [
       "<div>\n",
       "<style scoped>\n",
       "    .dataframe tbody tr th:only-of-type {\n",
       "        vertical-align: middle;\n",
       "    }\n",
       "\n",
       "    .dataframe tbody tr th {\n",
       "        vertical-align: top;\n",
       "    }\n",
       "\n",
       "    .dataframe thead th {\n",
       "        text-align: right;\n",
       "    }\n",
       "</style>\n",
       "<table border=\"1\" class=\"dataframe\">\n",
       "  <thead>\n",
       "    <tr style=\"text-align: right;\">\n",
       "      <th></th>\n",
       "      <th>0</th>\n",
       "      <th>1</th>\n",
       "      <th>2</th>\n",
       "      <th>3</th>\n",
       "      <th>4</th>\n",
       "      <th>5</th>\n",
       "      <th>6</th>\n",
       "      <th>7</th>\n",
       "      <th>8</th>\n",
       "      <th>9</th>\n",
       "      <th>10</th>\n",
       "      <th>11</th>\n",
       "      <th>12</th>\n",
       "      <th>13</th>\n",
       "      <th>14</th>\n",
       "      <th>15</th>\n",
       "      <th>16</th>\n",
       "      <th>17</th>\n",
       "      <th>18</th>\n",
       "      <th>19</th>\n",
       "      <th>20</th>\n",
       "      <th>21</th>\n",
       "      <th>22</th>\n",
       "      <th>23</th>\n",
       "      <th>24</th>\n",
       "      <th>Date</th>\n",
       "    </tr>\n",
       "  </thead>\n",
       "  <tbody>\n",
       "    <tr>\n",
       "      <th>0</th>\n",
       "      <td>'Nim Chimpsky: The tragedy of the chimp who th...</td>\n",
       "      <td>\"Canada: Beware slippery slope' to censorship,...</td>\n",
       "      <td>'EU Vice-President Luisa Morgantini and the Ir...</td>\n",
       "      <td>\"Israeli minister: Israel will attack Iran if ...</td>\n",
       "      <td>'Albino Killings in Tanzania. At least 19 albi...</td>\n",
       "      <td>'Chiapas: army occupies Zapatista communities ...</td>\n",
       "      <td>'Polar bear swims 200 miles, is shot dead upon...</td>\n",
       "      <td>'News is a contraband item in Pakistan now, an...</td>\n",
       "      <td>'Albinos, Long Shunned, Face Threat in Tanzani...</td>\n",
       "      <td>'Town in Britain Plans to Start its Own Currency'</td>\n",
       "      <td>'BBC reporter among 16 dead in Afghanistan'</td>\n",
       "      <td>'Lebanese women still vulnerable to violence: ...</td>\n",
       "      <td>'Police release chilling images of man left fo...</td>\n",
       "      <td>\"Iceland opens Europe's largest national park....</td>\n",
       "      <td>'Citizens fighting Blackwater Potrero. Was the...</td>\n",
       "      <td>\"S. Korean protesters, police clash in beef ra...</td>\n",
       "      <td>\"Oil reserves 'will last decades' - a BBC Scot...</td>\n",
       "      <td>'Cameras designed to detect terrorist facial e...</td>\n",
       "      <td>'Israeli peace activists protest 41 years of o...</td>\n",
       "      <td>\"A 5.1 earthquake hits China's Southern Qingha...</td>\n",
       "      <td>'Man goes berzerk in Akihabara and stabs every...</td>\n",
       "      <td>'Threat of world AIDS pandemic among heterosex...</td>\n",
       "      <td>'Angst in Ankara: Turkey Steers into a Dangero...</td>\n",
       "      <td>\"UK: Identity cards 'could be used to spy on p...</td>\n",
       "      <td>'Marriage, they said, was reduced to the statu...</td>\n",
       "      <td>2008-06-08</td>\n",
       "    </tr>\n",
       "    <tr>\n",
       "      <th>1</th>\n",
       "      <td>'United States quits Human Rights Council'</td>\n",
       "      <td>\"Pentagon blocked Cheney's attack on Iran\"</td>\n",
       "      <td>\"'J Street,' a new liberal Jewish organization...</td>\n",
       "      <td>'Former Ambassador Joseph Wilson: \"[The U.S. M...</td>\n",
       "      <td>'EU leaders anxiously await Irish verdict on L...</td>\n",
       "      <td>\" 17 Hit or Stabbed, 7 Confirmed Dead in Tokyo...</td>\n",
       "      <td>'Treaty tensions mount as Iraq tells the US it...</td>\n",
       "      <td>\"Council paints over street artist Banksy's gr...</td>\n",
       "      <td>'\"Finders keepers\" can get complicated when ha...</td>\n",
       "      <td>'Chew Qat: In Yemen, 72 per cent of men and 32...</td>\n",
       "      <td>'One of UKs most experienced and decorated spe...</td>\n",
       "      <td>'A bitter struggle between two powerful Beltwa...</td>\n",
       "      <td>'Jailers at Guantanamo urged to destroy interr...</td>\n",
       "      <td>'80% UK Laws Now Made In Brussels and the UK P...</td>\n",
       "      <td>'Virgin Media UK working with record industry ...</td>\n",
       "      <td>'35 Ukraine miners trapped underground - threa...</td>\n",
       "      <td>'Bilderberg attendee Geithner calls for global...</td>\n",
       "      <td>'Jos Manuel Barroso bullies the Irish, saying ...</td>\n",
       "      <td>\"Don't worry everyone, AIDS is officially over!\"</td>\n",
       "      <td>'What if Bush Attacks Iran on His Way Out of O...</td>\n",
       "      <td>'Future of the United States of Europe in the ...</td>\n",
       "      <td>\"'Military coup' in Zimbabwe as Mugabe is forc...</td>\n",
       "      <td>'Rising Oil Prices Spark Strikes in Spain and ...</td>\n",
       "      <td>'Chvez to FARC: Asks to end armed strugle, \"Th...</td>\n",
       "      <td>'Fliers in for pain as airlines pack it in'</td>\n",
       "      <td>2008-06-09</td>\n",
       "    </tr>\n",
       "    <tr>\n",
       "      <th>2</th>\n",
       "      <td>'Oil shortage a myth, says industry insider'</td>\n",
       "      <td>\"Israel launches 'Iran Command' for war\"</td>\n",
       "      <td>\"Petition Calling for an Investigation into 9/...</td>\n",
       "      <td>'Canadian HRC Tribunal forces pastor to public...</td>\n",
       "      <td>'US and EU threaten to freeze Iranian assets u...</td>\n",
       "      <td>'Thousands of UK homeowners face negative equity'</td>\n",
       "      <td>'31 year old beats 3 year old to death: worst ...</td>\n",
       "      <td>'White House Saying Senate Doesn\\'t Get to Vot...</td>\n",
       "      <td>'Man escapes North Korea after 33 years'</td>\n",
       "      <td>'The 14-year-old Afghan suicide bomber'</td>\n",
       "      <td>\"Zimbabwe 'run by military junta'\"</td>\n",
       "      <td>'Former British Prime Minister: Falsely Linkin...</td>\n",
       "      <td>'College Drinking and Heart Problems'</td>\n",
       "      <td>'What? Tens of Thousands Protest Sale of US Be...</td>\n",
       "      <td>'Bush: U.S. and EU must bond to press Iran on ...</td>\n",
       "      <td>'Shanghai Composite tumbles 7.7 percent '</td>\n",
       "      <td>'Olmert Hints That U.S. Attack On Iran Is Near'</td>\n",
       "      <td>'Is Israel planning on using nukes in its next...</td>\n",
       "      <td>'USS Liberty -- New Revelations in Attack on A...</td>\n",
       "      <td>\"World's first church unearthed in Jordan \"</td>\n",
       "      <td>'Corruption in Ukraine allows epidemic to reac...</td>\n",
       "      <td>'Bush Discusses Iran Sanctions With EU Leaders'</td>\n",
       "      <td>\"Tibet and the Olympic `tradition'\"</td>\n",
       "      <td>'Saddam tribe leader murdered in Iraq'</td>\n",
       "      <td>'Law creates underclass of child criminals'</td>\n",
       "      <td>2008-06-10</td>\n",
       "    </tr>\n",
       "    <tr>\n",
       "      <th>3</th>\n",
       "      <td>'BBC uncovers lost Iraq billions'</td>\n",
       "      <td>'War Criminal George W. Bush not Welcome in th...</td>\n",
       "      <td>'Offensive Speech: US says it\\'s \"free\", other...</td>\n",
       "      <td>'Bush/Cheney Plan Demands 58 US Bases In Iraq,...</td>\n",
       "      <td>'Grocery refuses to sell Jack Daniels barbecue...</td>\n",
       "      <td>'On farewell tour of Europe: Bush steps up thr...</td>\n",
       "      <td>\"Pakistan Blames U.S. Coalition for Troops' De...</td>\n",
       "      <td>'Senior intelligence officer leaves top secret...</td>\n",
       "      <td>'Food for schoolchildren was ordered to be giv...</td>\n",
       "      <td>\"Cuba's City Gardens Flourish and 70% Of Veget...</td>\n",
       "      <td>'The European Commission has pledged to suppor...</td>\n",
       "      <td>\"China's list of Olympic don'ts\"</td>\n",
       "      <td>'Blogging in Singapore: a hazardous business'</td>\n",
       "      <td>'Iraqis Denounces American Demands for 60 Mili...</td>\n",
       "      <td>'Africa: World Leaders Begin Debate On Crop Us...</td>\n",
       "      <td>'Iran 1st in Middle East stem cell research'</td>\n",
       "      <td>' Set a Guinness World Record, Enjoy a Better ...</td>\n",
       "      <td>'France blocks online child porn, terrorism, r...</td>\n",
       "      <td>'\"Race for Life\" coming to Czech Republic'</td>\n",
       "      <td>\"They're Killing Us Darling. They Really Are. ...</td>\n",
       "      <td>'OPEC Supports Saudi-Backed Oil Summit'</td>\n",
       "      <td>'A major and twelve Pakistani soldiers martyred'</td>\n",
       "      <td>'Turkish PM: court must explain headscarf ruling'</td>\n",
       "      <td>'crazy fitness tools from 1860  '</td>\n",
       "      <td>'2 US Lawmakers say computers compromised by C...</td>\n",
       "      <td>2008-06-11</td>\n",
       "    </tr>\n",
       "    <tr>\n",
       "      <th>4</th>\n",
       "      <td>'Did US attack Pakistan last night? \"Pakistan ...</td>\n",
       "      <td>'If U.S. or Israel drops a bomb on Iran, it wi...</td>\n",
       "      <td>\"Top Secret documents on Al-Qaeda left on a tr...</td>\n",
       "      <td>'Seoul protest that started over allowing poss...</td>\n",
       "      <td>\"'Jewish settler attack' on film \"</td>\n",
       "      <td>'Cult of Scientology has disabled man from Ply...</td>\n",
       "      <td>'No one knows the long-term carrying capacity ...</td>\n",
       "      <td>'Robert Mugabe is stealing food aid from the h...</td>\n",
       "      <td>'Huh, the American establishment has a LONG hi...</td>\n",
       "      <td>'Marine \"Mean Motari\" gets expelled, another p...</td>\n",
       "      <td>'American Aid Is Seized in Zimbabwe'</td>\n",
       "      <td>'US offers pledge of $10.6bn for Afghanistan'</td>\n",
       "      <td>'What a great country.'</td>\n",
       "      <td>'United Airlines to Charge for Checked Bags'</td>\n",
       "      <td>\"Zimbabwe's military is actively involved in r...</td>\n",
       "      <td>'Chinese are naming children \"Olympic Games\"'</td>\n",
       "      <td>'Pentagon released video of a controversial ai...</td>\n",
       "      <td>'4 dead, 40 hurt as tornado hits Boy Scout camp'</td>\n",
       "      <td>\"Islamic Cleric Issues Fatwa Condemning Gambia...</td>\n",
       "      <td>'Footage of deadly US airstrike'</td>\n",
       "      <td>'British MP to resign, seek-relection in defen...</td>\n",
       "      <td>\"John McCain believes that it would be a good ...</td>\n",
       "      <td>'China &amp;amp; Taiwan reopen talks'</td>\n",
       "      <td>'Estonian parliament approves EU Lisbon Treaty...</td>\n",
       "      <td>'Ukranian Women Strip in Protest'</td>\n",
       "      <td>2008-06-12</td>\n",
       "    </tr>\n",
       "  </tbody>\n",
       "</table>\n",
       "</div>"
      ],
      "text/plain": [
       "                                                   0    ...           Date\n",
       "0  'Nim Chimpsky: The tragedy of the chimp who th...    ...     2008-06-08\n",
       "1         'United States quits Human Rights Council'    ...     2008-06-09\n",
       "2       'Oil shortage a myth, says industry insider'    ...     2008-06-10\n",
       "3                  'BBC uncovers lost Iraq billions'    ...     2008-06-11\n",
       "4  'Did US attack Pakistan last night? \"Pakistan ...    ...     2008-06-12\n",
       "\n",
       "[5 rows x 26 columns]"
      ]
     },
     "execution_count": 466,
     "metadata": {},
     "output_type": "execute_result"
    }
   ],
   "source": [
    "wide_news.head()"
   ]
  },
  {
   "cell_type": "code",
   "execution_count": 467,
   "metadata": {},
   "outputs": [],
   "source": [
    "df = stock.merge(wide_news, how='left', on='Date')"
   ]
  },
  {
   "cell_type": "code",
   "execution_count": 468,
   "metadata": {},
   "outputs": [],
   "source": [
    "# Drop Variables\n",
    "col_drops = \"Open,High,Low,Close,Volume,Adj Close,index\".split(\",\")\n",
    "df = df.drop(col_drops, axis=1)"
   ]
  },
  {
   "cell_type": "code",
   "execution_count": 469,
   "metadata": {},
   "outputs": [
    {
     "data": {
      "text/html": [
       "<div>\n",
       "<style scoped>\n",
       "    .dataframe tbody tr th:only-of-type {\n",
       "        vertical-align: middle;\n",
       "    }\n",
       "\n",
       "    .dataframe tbody tr th {\n",
       "        vertical-align: top;\n",
       "    }\n",
       "\n",
       "    .dataframe thead th {\n",
       "        text-align: right;\n",
       "    }\n",
       "</style>\n",
       "<table border=\"1\" class=\"dataframe\">\n",
       "  <thead>\n",
       "    <tr style=\"text-align: right;\">\n",
       "      <th></th>\n",
       "      <th>level_0</th>\n",
       "      <th>Date</th>\n",
       "      <th>up_neutral_down</th>\n",
       "      <th>up_or_down</th>\n",
       "      <th>0</th>\n",
       "      <th>1</th>\n",
       "      <th>2</th>\n",
       "      <th>3</th>\n",
       "      <th>4</th>\n",
       "      <th>5</th>\n",
       "      <th>6</th>\n",
       "      <th>7</th>\n",
       "      <th>8</th>\n",
       "      <th>9</th>\n",
       "      <th>10</th>\n",
       "      <th>11</th>\n",
       "      <th>12</th>\n",
       "      <th>13</th>\n",
       "      <th>14</th>\n",
       "      <th>15</th>\n",
       "      <th>16</th>\n",
       "      <th>17</th>\n",
       "      <th>18</th>\n",
       "      <th>19</th>\n",
       "      <th>20</th>\n",
       "      <th>21</th>\n",
       "      <th>22</th>\n",
       "      <th>23</th>\n",
       "      <th>24</th>\n",
       "    </tr>\n",
       "  </thead>\n",
       "  <tbody>\n",
       "    <tr>\n",
       "      <th>0</th>\n",
       "      <td>1</td>\n",
       "      <td>2008-08-11</td>\n",
       "      <td>1</td>\n",
       "      <td>1</td>\n",
       "      <td>'Why wont America and Nato help us? If they wo...</td>\n",
       "      <td>'Bush puts foot down on Georgian conflict'</td>\n",
       "      <td>\"Jewish Georgian minister: Thanks to Israeli t...</td>\n",
       "      <td>'Georgian army flees in disarray as Russians a...</td>\n",
       "      <td>\"Olympic opening ceremony fireworks 'faked'\"</td>\n",
       "      <td>'What were the Mossad with fraudulent New Zeal...</td>\n",
       "      <td>'Russia angered by Israeli military sale to Ge...</td>\n",
       "      <td>'An American citizen living in S.Ossetia blame...</td>\n",
       "      <td>'Welcome To World War IV! Now In High Definiti...</td>\n",
       "      <td>\"Georgia's move, a mistake of monumental propo...</td>\n",
       "      <td>'Russia presses deeper into Georgia; U.S. says...</td>\n",
       "      <td>'Abhinav Bindra wins first ever Individual Oly...</td>\n",
       "      <td>' U.S. ship heads for Arctic to define territory'</td>\n",
       "      <td>'Drivers in a Jerusalem taxi station threaten ...</td>\n",
       "      <td>'The French Team is Stunned by Phelps and the ...</td>\n",
       "      <td>'Israel and the US behind the Georgian aggress...</td>\n",
       "      <td>'\"Do not believe TV, neither Russian nor Georg...</td>\n",
       "      <td>'Riots are still going on in Montreal (Canada)...</td>\n",
       "      <td>'China to overtake US as largest manufacturer'</td>\n",
       "      <td>'War in South Ossetia [PICS]'</td>\n",
       "      <td>'Israeli Physicians Group Condemns State Torture'</td>\n",
       "      <td>' Russia has just beaten the United States ove...</td>\n",
       "      <td>'Perhaps *the* question about the Georgia - Ru...</td>\n",
       "      <td>'Russia is so much better at war'</td>\n",
       "      <td>\"So this is what it's come to: trading sex for...</td>\n",
       "    </tr>\n",
       "    <tr>\n",
       "      <th>1</th>\n",
       "      <td>2</td>\n",
       "      <td>2008-08-12</td>\n",
       "      <td>0</td>\n",
       "      <td>0</td>\n",
       "      <td>'Remember that adorable 9-year-old who sang at...</td>\n",
       "      <td>\"Russia 'ends Georgia operation'\"</td>\n",
       "      <td>'\"If we had no sexual harassment we would have...</td>\n",
       "      <td>\"Al-Qa'eda is losing support in Iraq because o...</td>\n",
       "      <td>'Ceasefire in Georgia: Putin Outmaneuvers the ...</td>\n",
       "      <td>'Why Microsoft and Intel tried to kill the XO ...</td>\n",
       "      <td>'Stratfor: The Russo-Georgian War and the Bala...</td>\n",
       "      <td>\"I'm Trying to Get a Sense of This Whole Georg...</td>\n",
       "      <td>\"The US military was surprised by the timing a...</td>\n",
       "      <td>'U.S. Beats War Drum as Iran Dumps the Dollar'</td>\n",
       "      <td>'Gorbachev: \"Georgian military attacked the So...</td>\n",
       "      <td>'CNN use footage of Tskhinvali ruins to cover ...</td>\n",
       "      <td>'Beginning a war as the Olympics were opening ...</td>\n",
       "      <td>'55 pyramids as large as the Luxor stacked int...</td>\n",
       "      <td>'The 11 Top Party Cities in the World'</td>\n",
       "      <td>'U.S. troops still in Georgia (did you know th...</td>\n",
       "      <td>'Why Russias response to Georgia was right'</td>\n",
       "      <td>'Gorbachev accuses U.S. of making a \"serious b...</td>\n",
       "      <td>'Russia, Georgia, and NATO: Cold War Two'</td>\n",
       "      <td>'Remember that adorable 62-year-old who led yo...</td>\n",
       "      <td>'War in Georgia: The Israeli connection'</td>\n",
       "      <td>'All signs point to the US encouraging Georgia...</td>\n",
       "      <td>'Christopher King argues that the US and NATO ...</td>\n",
       "      <td>'America: The New Mexico?'</td>\n",
       "      <td>\"BBC NEWS | Asia-Pacific | Extinction 'by man ...</td>\n",
       "    </tr>\n",
       "    <tr>\n",
       "      <th>2</th>\n",
       "      <td>3</td>\n",
       "      <td>2008-08-13</td>\n",
       "      <td>0</td>\n",
       "      <td>0</td>\n",
       "      <td>' U.S. refuses Israel weapons to attack Iran: ...</td>\n",
       "      <td>\"When the president ordered to attack Tskhinva...</td>\n",
       "      <td>' Israel clears troops who killed Reuters came...</td>\n",
       "      <td>'Britain\\'s policy of being tough on drugs is ...</td>\n",
       "      <td>'Body of 14 year old found in trunk; Latest (r...</td>\n",
       "      <td>'China has moved 10 *million* quake survivors ...</td>\n",
       "      <td>\"Bush announces Operation Get All Up In Russia...</td>\n",
       "      <td>'Russian forces sink Georgian ships '</td>\n",
       "      <td>\"The commander of a Navy air reconnaissance sq...</td>\n",
       "      <td>\"92% of CNN readers: Russia's actions in Georg...</td>\n",
       "      <td>'USA to send fleet into Black Sea to help Geor...</td>\n",
       "      <td>\"US warns against Israeli plan to strike again...</td>\n",
       "      <td>\"In an intriguing cyberalliance, two Estonian ...</td>\n",
       "      <td>'The CNN Effect: Georgia Schools Russia in Inf...</td>\n",
       "      <td>'Why Russias response to Georgia was right'</td>\n",
       "      <td>'Elephants extinct by 2020?'</td>\n",
       "      <td>'US humanitarian missions soon in Georgia - if...</td>\n",
       "      <td>\"Georgia's DDOS came from US sources\"</td>\n",
       "      <td>'Russian convoy heads into Georgia, violating ...</td>\n",
       "      <td>'Israeli defence minister: US against strike o...</td>\n",
       "      <td>'Gorbachev: We Had No Choice'</td>\n",
       "      <td>'Witness: Russian forces head towards Tbilisi ...</td>\n",
       "      <td>' Quarter of Russians blame U.S. for conflict:...</td>\n",
       "      <td>'Georgian president  says US military will tak...</td>\n",
       "      <td>'2006: Nobel laureate Aleksander Solzhenitsyn ...</td>\n",
       "    </tr>\n",
       "    <tr>\n",
       "      <th>3</th>\n",
       "      <td>4</td>\n",
       "      <td>2008-08-14</td>\n",
       "      <td>0</td>\n",
       "      <td>1</td>\n",
       "      <td>'All the experts admit that we should legalise...</td>\n",
       "      <td>'War in South Osetia - 89 pictures made by a R...</td>\n",
       "      <td>'Swedish wrestler Ara Abrahamian throws away m...</td>\n",
       "      <td>'Russia exaggerated the death toll in South Os...</td>\n",
       "      <td>'Missile That Killed 9 Inside Pakistan May Hav...</td>\n",
       "      <td>\"Rushdie Condemns Random House's Refusal to Pu...</td>\n",
       "      <td>'Poland and US agree to missle defense deal. I...</td>\n",
       "      <td>'Will the Russians conquer Tblisi? Bet on it, ...</td>\n",
       "      <td>'Russia exaggerating South Ossetian death toll...</td>\n",
       "      <td>' Musharraf expected to resign rather than fac...</td>\n",
       "      <td>'Moscow Made Plans Months Ago to Invade Georgia'</td>\n",
       "      <td>'Why Russias response to Georgia was right'</td>\n",
       "      <td>'Nigeria has handed over the potentially oil-r...</td>\n",
       "      <td>'The US and Poland have agreed a preliminary d...</td>\n",
       "      <td>'Russia apparently is sabotaging infrastructur...</td>\n",
       "      <td>'Bank analyst forecast Georgian crisis 2 days ...</td>\n",
       "      <td>\"Georgia confict could set back Russia's US re...</td>\n",
       "      <td>'War in the Caucasus is as much the product of...</td>\n",
       "      <td>'\"Non-media\" photos of South Ossetia/Georgia c...</td>\n",
       "      <td>'Georgian TV reporter shot by Russian sniper d...</td>\n",
       "      <td>'Saudi Arabia: Mother moves to block child mar...</td>\n",
       "      <td>'Taliban wages war on humanitarian aid workers'</td>\n",
       "      <td>'Russia: World  \"can forget about\" Georgia\\'s ...</td>\n",
       "      <td>'Darfur rebels accuse Sudan of mounting major ...</td>\n",
       "      <td>'Philippines : Peace Advocate say Muslims need...</td>\n",
       "    </tr>\n",
       "    <tr>\n",
       "      <th>4</th>\n",
       "      <td>5</td>\n",
       "      <td>2008-08-15</td>\n",
       "      <td>2</td>\n",
       "      <td>1</td>\n",
       "      <td>\"Mom of missing gay man: Too bad he's not a 21...</td>\n",
       "      <td>\"Russia: U.S. Poland Missile Deal Won't Go 'Un...</td>\n",
       "      <td>\"The government has been accused of creating l...</td>\n",
       "      <td>'The Italian government has lashed out at an i...</td>\n",
       "      <td>'Gorbachev: Georgia started conflict in S. Oss...</td>\n",
       "      <td>\"China fakes more than your girlfriend; 'Ethni...</td>\n",
       "      <td>\"The UN's criticism of freedom of expression i...</td>\n",
       "      <td>'Russian general threatens nuclear strike on P...</td>\n",
       "      <td>'Russia can inspect Polish missile defence site'</td>\n",
       "      <td>'Russia-Georgia Conflict Fueled by Rush to Con...</td>\n",
       "      <td>\"Business Week: Victory in Georgia gives Russi...</td>\n",
       "      <td>\"Under Soviet rule we didn't believe a word of...</td>\n",
       "      <td>'Ministers have been accused of building a nat...</td>\n",
       "      <td>\"Russia: Georgia can 'forget' regaining provin...</td>\n",
       "      <td>\"Russians 'Seize US Weapons Depot' in Georgia\"</td>\n",
       "      <td>'Why are redditors generally supportive of Rus...</td>\n",
       "      <td>'Johann Hari: We need to stop being such cowar...</td>\n",
       "      <td>'US officials have said that their military pr...</td>\n",
       "      <td>'Israel clears troops who killed Reuters camer...</td>\n",
       "      <td>'Unenforceable laws encourage cops to escalate...</td>\n",
       "      <td>'What Chinese pollution really looks like'</td>\n",
       "      <td>'Hacker Kidnaps and Tortures Informant, Posts ...</td>\n",
       "      <td>'Bush Tells Putin: This Aggression Will Not St...</td>\n",
       "      <td>'Georgia is all about the oil pipelines'</td>\n",
       "      <td>'Rivals say they plan to remove Georgian presi...</td>\n",
       "    </tr>\n",
       "  </tbody>\n",
       "</table>\n",
       "</div>"
      ],
      "text/plain": [
       "   level_0                        ...                                                                         24\n",
       "0        1                        ...                          \"So this is what it's come to: trading sex for...\n",
       "1        2                        ...                          \"BBC NEWS | Asia-Pacific | Extinction 'by man ...\n",
       "2        3                        ...                          '2006: Nobel laureate Aleksander Solzhenitsyn ...\n",
       "3        4                        ...                          'Philippines : Peace Advocate say Muslims need...\n",
       "4        5                        ...                          'Rivals say they plan to remove Georgian presi...\n",
       "\n",
       "[5 rows x 29 columns]"
      ]
     },
     "execution_count": 469,
     "metadata": {},
     "output_type": "execute_result"
    }
   ],
   "source": [
    "df.head()"
   ]
  },
  {
   "cell_type": "code",
   "execution_count": 471,
   "metadata": {},
   "outputs": [],
   "source": [
    "# list of concatenated headlines of each date. \n",
    "headlines = df.iloc[:, 3:].apply(''.join ,axis=1)\n",
    "\n",
    "# Labels    \n",
    "binary_labels = df['up_or_down'].get_values()\n",
    "multi_labels = df['up_neutral_down'].get_values()"
   ]
  },
  {
   "cell_type": "code",
   "execution_count": 472,
   "metadata": {},
   "outputs": [
    {
     "data": {
      "image/png": "[encoded data removed]",
      "text/plain": [
       "<Figure size 1008x504 with 2 Axes>"
      ]
     },
     "metadata": {},
     "output_type": "display_data"
    }
   ],
   "source": [
    "plt.rcParams['font.size'] = 16\n",
    "\n",
    "fig, (ax1, ax2) = plt.subplots(1, 2, figsize=(14, 7))\n",
    "\n",
    "colors = [\"#3791D7\", \"#D72626\", \"#C29143\"]\n",
    "\n",
    "pd.Series(Counter(labels)).plot(kind='pie', ax=ax1, title='Binary', labels=['Down', 'Up'],\n",
    "                               explode=[0,0.05], autopct='%1.2f%%', colors=colors[:-1], startangle=60)\n",
    "pd.Series(Counter(multi_labels)).plot(kind='pie', ax=ax2, title='Multi-Class', labels=['Neutral', 'Down', 'Up'],\n",
    "                                     explode=[0,0.05, 0.05], autopct='%1.2f%%', colors=colors)\n",
    "ax1.set_ylabel('')\n",
    "ax2.set_ylabel('')\n",
    "plt.show()"
   ]
  },
  {
   "cell_type": "markdown",
   "metadata": {},
   "source": [
    "<br>\n",
    "<br>\n",
    "# 2. Feature Engineering\n",
    "\n",
    "## Vectorization "
   ]
  },
  {
   "cell_type": "code",
   "execution_count": null,
   "metadata": {},
   "outputs": [],
   "source": [
    "def remove_punct(txt):\n",
    "    \n",
    "    puncts = set(string.punctuation)\n",
    "    new_txt = ''.join([char.lower() for char in txt if char not in puncts])\n",
    "    \n",
    "    return new_txt\n",
    "    \n",
    "def count_vectorizer(txt_train, txt_test, ngram_range=(1,1)):\n",
    "    cv = CountVectorizer(stop_words='english', ngram_range=ngram_range, max_df=0.99, min_df=3)\n",
    "    return cv.fit_transform(txt_train), cv.transform(txt_test)\n",
    "    \n",
    "def tfidf_vectorizer(txt_train, txt_test, ngram_range=(1,1)):\n",
    "    ti = TfidfVectorizer(stop_words='english', ngram_range=ngram_range, max_df=0.99, min_df=3)\n",
    "    return ti.fit_transform(txt_train), ti.transform(txt_test)\n",
    "\n",
    "def test_split(X, y_1, y_2, test_size=0.2, apply_vectorizer='count', ngram_range=(1,1)):\n",
    "    n_row = X.shape[0]\n",
    "    \n",
    "    rand_index = np.random.permutation(n_row)\n",
    "\n",
    "    train_index = rand_index[int(n_row*test_size):]\n",
    "    test_index = rand_index[:int(n_row*test_size)]\n",
    "    \n",
    "    X = X.map(remove_punct)\n",
    "    X_train, X_test = X[train_index], X[test_index]\n",
    "    y_1_train, y_1_test = y_1[train_index], y_1[test_index]\n",
    "    y_2_train, y_2_test = y_2[train_index], y_2[test_index]\n",
    "    \n",
    "    if apply_vectorizer == 'count':\n",
    "        X_train, X_test = count_vectorizer(X_train, X_test, ngram_range)\n",
    "    elif apply_vectorizer == 'tfidf':\n",
    "        X_train, X_test = tfidf_vectorizer(X_train, X_test, ngram_range)\n",
    "    \n",
    "    return (X_train, X_test), (y_1_train, y_1_test), (y_2_train, y_2_test)\n",
    "\n"
   ]
  },
  {
   "cell_type": "code",
   "execution_count": null,
   "metadata": {},
   "outputs": [],
   "source": [
    "# Counter Vectorization\n",
    "(X_train, X_test), (bi_y_train, bi_y_test), (mul_y_train, mul_y_test) = \\\n",
    "                                    test_split(headlines, binary_labels, multi_labels)\n",
    "    \n",
    "# TF-IDF Vectorization\n",
    "(X_train, X_test), (bi_y_train, bi_y_test), (mul_y_train, mul_y_test) = \\\n",
    "                                    test_split(headlines, binary_labels, \n",
    "                                               multi_labels, apply_vectorizer='tfidf', ngram_range=(1,2))"
   ]
  },
  {
   "cell_type": "code",
   "execution_count": 408,
   "metadata": {},
   "outputs": [],
   "source": [
    "# TF-IDF Vectorization\n",
    "(X_train, X_test), (bi_y_train, bi_y_test), (mul_y_train, mul_y_test) = \\\n",
    "                                    test_split(headlines, binary_labels, \n",
    "                                               multi_labels, apply_vectorizer='tfidf', ngram_range=(1,1))"
   ]
  },
  {
   "cell_type": "markdown",
   "metadata": {},
   "source": [
    "## Feature Selection\n",
    "\n",
    "### Sparicity of Vectors\n",
    "\n",
    "When learning from high-dimensional data such as text, it has been empirically\n",
    "observed that relatively few dimensions are relevant to the predictive task. How can we capitalize on this insight and choose which dimensions are relevant\n",
    "in an informed and principled manner? Sparse regularizers provide a way to select\n",
    "relevant dimensions by means of regularization. I will first apply plain machine learning algorithms without any feature engineering. Then it will be meaningful to explore sparse regularization techinques.\n",
    "\n",
    "**Reference**: <a src=\"https://www.lti.cs.cmu.edu/sites/default/files/dani_yogatama_sparse_models_of_natural_language_text.pdf\"> Dani Yogatama, \"Sparse Models of Natural Language Text\"</a>"
   ]
  },
  {
   "cell_type": "code",
   "execution_count": 409,
   "metadata": {},
   "outputs": [],
   "source": [
    "# Feature Selection\n",
    "def features_chi2(features, labels, n_features=5000):\n",
    "    chi2_model = SelectKBest(chi2, k=n_features)\n",
    "    new_features = chi2_model.fit_transform(features, labels)\n",
    "    return new_features, chi2_model\n",
    "\n",
    "def features_information_gain(features, labels, max_features=1000):\n",
    "    tree_clf = tree.DecisionTreeClassifier(criterion=\"entropy\", max_features=max_features)\n",
    "    tree_clf = tree_clf.fit(features, labels)\n",
    "    inf_gain = SelectFromModel(tree_clf, prefit=True)\n",
    "    new_features = inf_gain.transform(features)\n",
    "    return new_features, inf_gain\n",
    "    \n",
    "def features_lsa(features,n_components=100):\n",
    "    svd = TruncatedSVD(n_components=n_components)\n",
    "    normalizer =  Normalizer(copy=False)\n",
    "    lsa = make_pipeline(svd, normalizer)\n",
    "    new_features = lsa.fit_transform(features)\n",
    "    return new_features, lsa"
   ]
  },
  {
   "cell_type": "code",
   "execution_count": 410,
   "metadata": {},
   "outputs": [],
   "source": [
    "chi2_vec, chi2_model = features_chi2(X_train, bi_y_train, 2000)\n",
    "ig_vec, ig_model = features_information_gain(X_train, bi_y_train, 2000)\n",
    "lsa_vec, lsa_model = features_lsa(X_train, 2000)"
   ]
  },
  {
   "cell_type": "markdown",
   "metadata": {},
   "source": [
    "# 3. Predcitive Modeling\n",
    "\n",
    "## Binary Classification"
   ]
  },
  {
   "cell_type": "code",
   "execution_count": null,
   "metadata": {},
   "outputs": [],
   "source": [
    "# Initial Modeling\n",
    "# Stratified Cross-validation\n",
    "kfold = StratifiedKFold(n_splits=4, random_state=42)\n",
    "\n",
    "lr = LogisticRegression()\n",
    "rf = RandomForestClassifier()\n",
    "svc = LinearSVC()\n",
    "xgb = XGBClassifier()\n",
    "\n",
    "# Evaluate\n",
    "vec_names = ['Chi2', 'IG', \"LSA\"]\n",
    "models = [lr, rf, svc, xgb]\n",
    "model_names = ['Logistic', 'Random Forest', 'Linear SVC', 'XGboosting']\n",
    "\n",
    "# For future reference\n",
    "vec_type = []\n",
    "clf_type = []\n",
    "metrics = []\n",
    "\n",
    "# Fit the model\n",
    "for i, vec in enumerate([chi2_vec, ig_vec, lsa_vec]):\n",
    "    for model, model_name in zip(models, model_names):\n",
    "        test_val = cross_validate(model, vec, mul_y_train, scoring=['accuracy', 'precision_weighted', \n",
    "                                                       'recall_weighted', 'f1_weighted'], cv=kfold)\n",
    "        \n",
    "        accuracy = round(test_val['test_accuracy'].mean(), 3)\n",
    "        precision = round(test_val['test_precision_weighted'].mean(), 3)\n",
    "        recall = round(test_val['test_recall_weighted'].mean(), 3)\n",
    "        fscore = round(test_val['test_f1_weighted'].mean(), 3)\n",
    "    \n",
    "        print(vec_names[i], model_name, \"- accuracy: {0}, precision: {1}, recall: {2}, fscore: {3}\"\\\n",
    "                                  .format(accuracy, precision, recall, fscore))\n",
    "    \n",
    "        vec_type.append(vec_names[i])\n",
    "        clf_type.append(model_name)\n",
    "        metrics.append([precision, recall, fscore])"
   ]
  },
  {
   "cell_type": "markdown",
   "metadata": {},
   "source": [
    "## Findings:\n",
    "\n",
    "- Linear SVC with Chi-squred feature selector achieved a superb performance. (0.905% precision) "
   ]
  },
  {
   "cell_type": "code",
   "execution_count": 452,
   "metadata": {},
   "outputs": [
    {
     "name": "stdout",
     "output_type": "stream",
     "text": [
      "chi2 vector - SVC - precision: 0.607, recall: 0.778, fscore: 0.682\n"
     ]
    }
   ],
   "source": [
    "# Linear SVC\n",
    "param_grid = {'penalty': ['l1', 'l2'],\n",
    "              'dual': [True, False],\n",
    "              'C': [0.2, 0.4, 0.6, 0.8, 1.0],\n",
    "              'multi_class': ['crammer_singer', 'ovr'],\n",
    "              'class_weight': [None, 'balanced']}\n",
    "              \n",
    "\n",
    "clf = LinearSVC()\n",
    "svc_rs = GridSearchCV(clf, param_grid, n_jobs=-1, cv=5, \n",
    "                        scoring='f1_weighted', error_score=0)\n",
    "\n",
    "svc_rs.fit(chi2_vec, bi_y_train)\n",
    "\n",
    "best_svc = svc_rs.best_estimator_\n",
    "\n",
    "test_val = cross_validate(best_svc, chi2_vec, mul_y_train, scoring=['precision_weighted', \n",
    "                                                       'recall_weighted', 'f1_weighted'], cv=3)\n",
    "\n",
    "precision = round(test_val['test_precision_weighted'].mean(), 3)\n",
    "recall = round(test_val['test_recall_weighted'].mean(), 3)\n",
    "fscore = round(test_val['test_f1_weighted'].mean(), 3)\n",
    "    \n",
    "print(\"chi2 vector -\", \"SVC\", \"- precision: {0}, recall: {1}, fscore: {2}\".format(precision, recall, fscore))"
   ]
  },
  {
   "cell_type": "markdown",
   "metadata": {},
   "source": [
    "<br>\n",
    "## Test Evaluation"
   ]
  },
  {
   "cell_type": "code",
   "execution_count": 462,
   "metadata": {},
   "outputs": [
    {
     "name": "stdout",
     "output_type": "stream",
     "text": [
      "              precision    recall  f1-score   support\n",
      "\n",
      "          -1       0.13      0.27      0.18        41\n",
      "           0       0.76      0.64      0.70       299\n",
      "           1       0.14      0.16      0.15        57\n",
      "\n",
      "   micro avg       0.53      0.53      0.53       397\n",
      "   macro avg       0.35      0.35      0.34       397\n",
      "weighted avg       0.61      0.53      0.56       397\n",
      "\n"
     ]
    }
   ],
   "source": [
    "pred = RandomForestClassifier().fit(chi2_vec, mul_y_train).predict(chi2_vec_test2)\n",
    "print(classification_report(mul_y_test, pred))"
   ]
  },
  {
   "cell_type": "code",
   "execution_count": 446,
   "metadata": {},
   "outputs": [
    {
     "name": "stdout",
     "output_type": "stream",
     "text": [
      "              precision    recall  f1-score   support\n",
      "\n",
      "           0       0.52      0.65      0.57       193\n",
      "           1       0.56      0.43      0.48       204\n",
      "\n",
      "   micro avg       0.53      0.53      0.53       397\n",
      "   macro avg       0.54      0.54      0.53       397\n",
      "weighted avg       0.54      0.53      0.53       397\n",
      "\n"
     ]
    }
   ],
   "source": [
    "pred = best_svc.predict(chi2_vec_test2)\n",
    "print(classification_report(bi_y_test, pred))"
   ]
  },
  {
   "cell_type": "code",
   "execution_count": 447,
   "metadata": {},
   "outputs": [],
   "source": [
    "chi2_vec_test = chi2_model.transform(X_test)\n",
    "svm_prob = best_svc.decision_function(chi2_vec_test2)"
   ]
  },
  {
   "cell_type": "code",
   "execution_count": 448,
   "metadata": {},
   "outputs": [
    {
     "data": {
      "text/plain": [
       "<matplotlib.legend.Legend at 0x139600dd8>"
      ]
     },
     "execution_count": 448,
     "metadata": {},
     "output_type": "execute_result"
    },
    {
     "data": {
      "image/png": "[encoded data removed]",
      "text/plain": [
       "<Figure size 504x432 with 1 Axes>"
      ]
     },
     "metadata": {},
     "output_type": "display_data"
    }
   ],
   "source": [
    "fpr, tpr, thresholds = roc_curve(bi_y_test, svm_prob)\n",
    "\n",
    "auc_svm = auc(fpr, tpr)\n",
    "\n",
    "plt.figure(figsize=(7,6))\n",
    "plt.plot(fpr, tpr, color='darkorange', lw=1, label='ROC curve (area = %0.2f)' % auc_svm)\n",
    "plt.plot([0, 1], [0, 1], color='navy', lw=0.5, linestyle='--')\n",
    "plt.xlim([0.0, 1.0])\n",
    "plt.ylim([0.0, 1.05])\n",
    "plt.xlabel('False Positive Rate')\n",
    "plt.ylabel('True Positive Rate')\n",
    "plt.title('ROC for SVM')\n",
    "plt.legend(loc=\"lower right\")"
   ]
  },
  {
   "cell_type": "code",
   "execution_count": 425,
   "metadata": {},
   "outputs": [],
   "source": [
    "svm_prob = best_svc.decision_function(chi2_vec)"
   ]
  },
  {
   "cell_type": "code",
   "execution_count": 426,
   "metadata": {},
   "outputs": [
    {
     "data": {
      "text/plain": [
       "<matplotlib.legend.Legend at 0x20b912668>"
      ]
     },
     "execution_count": 426,
     "metadata": {},
     "output_type": "execute_result"
    },
    {
     "data": {
      "image/png": "[encoded data removed]",
      "text/plain": [
       "<Figure size 504x432 with 1 Axes>"
      ]
     },
     "metadata": {},
     "output_type": "display_data"
    }
   ],
   "source": [
    "fpr, tpr, thresholds = roc_curve(bi_y_train, svm_prob)\n",
    "\n",
    "auc_svm = auc(fpr, tpr)\n",
    "\n",
    "plt.figure(figsize=(7,6))\n",
    "plt.plot(fpr, tpr, color='darkorange', lw=1, label='ROC curve (area = %0.2f)' % auc_svm)\n",
    "plt.plot([0, 1], [0, 1], color='navy', lw=0.5, linestyle='--')\n",
    "plt.xlim([-0.1, 1.0])\n",
    "plt.ylim([-.01, 1.05])\n",
    "plt.xlabel('False Positive Rate')\n",
    "plt.ylabel('True Positive Rate')\n",
    "plt.title('ROC for SVM')\n",
    "plt.legend(loc=\"lower right\")"
   ]
  },
  {
   "cell_type": "code",
   "execution_count": 240,
   "metadata": {},
   "outputs": [
    {
     "name": "stdout",
     "output_type": "stream",
     "text": [
      "_________________________________________________________________\n",
      "Layer (type)                 Output Shape              Param #   \n",
      "=================================================================\n",
      "dense_136 (Dense)            (None, 16)                2784      \n",
      "_________________________________________________________________\n",
      "dropout_44 (Dropout)         (None, 16)                0         \n",
      "_________________________________________________________________\n",
      "batch_normalization_30 (Batc (None, 16)                64        \n",
      "_________________________________________________________________\n",
      "dense_137 (Dense)            (None, 16)                272       \n",
      "_________________________________________________________________\n",
      "dropout_45 (Dropout)         (None, 16)                0         \n",
      "_________________________________________________________________\n",
      "batch_normalization_31 (Batc (None, 16)                64        \n",
      "_________________________________________________________________\n",
      "dense_138 (Dense)            (None, 16)                272       \n",
      "_________________________________________________________________\n",
      "dropout_46 (Dropout)         (None, 16)                0         \n",
      "_________________________________________________________________\n",
      "batch_normalization_32 (Batc (None, 16)                64        \n",
      "_________________________________________________________________\n",
      "dense_139 (Dense)            (None, 16)                272       \n",
      "_________________________________________________________________\n",
      "dropout_47 (Dropout)         (None, 16)                0         \n",
      "_________________________________________________________________\n",
      "batch_normalization_33 (Batc (None, 16)                64        \n",
      "_________________________________________________________________\n",
      "dense_140 (Dense)            (None, 1)                 17        \n",
      "=================================================================\n",
      "Total params: 3,873\n",
      "Trainable params: 3,745\n",
      "Non-trainable params: 128\n",
      "_________________________________________________________________\n"
     ]
    }
   ],
   "source": [
    "model = Sequential()\n",
    "\n",
    "model.add(layers.Dense(16, input_shape=[X_train.shape[1]] , activation=\"elu\"))\n",
    "model.add(layers.Dropout(0.5))\n",
    "model.add(layers.BatchNormalization())\n",
    "model.add(layers.Dense(16, activation=\"elu\"))\n",
    "model.add(layers.Dropout(0.5))\n",
    "model.add(layers.BatchNormalization())\n",
    "model.add(layers.Dense(16, activation=\"elu\"))\n",
    "model.add(layers.Dropout(0.5))\n",
    "model.add(layers.BatchNormalization())\n",
    "model.add(layers.Dense(16, activation=\"elu\"))\n",
    "model.add(layers.Dropout(0.5))\n",
    "model.add(layers.BatchNormalization())\n",
    "model.add(layers.Dense(1, activation=\"sigmoid\"))\n",
    "\n",
    "model.summary()"
   ]
  },
  {
   "cell_type": "code",
   "execution_count": null,
   "metadata": {},
   "outputs": [],
   "source": [
    "model.compile(optimizer=Adam(lr=1e-5), loss='binary_crossentropy', metrics=['acc'])\n",
    "\n",
    "callbacks = [ModelCheckpoint('best_nn_h5', monitor='val_acc', save_best_only=True)]\n",
    "\n",
    "history = model.fit(X_train.toarray(), y_train.reshape(-1, 1), batch_size=16, epochs=100,\n",
    "                    verbose=2, validation_data=(X_test, y_test), callbacks=callbacks)"
   ]
  },
  {
   "cell_type": "markdown",
   "metadata": {},
   "source": [
    "<br>\n",
    "# Conclusion:\n",
    "## This project is still in progress. Will be fully updated in January 2019"
   ]
  }
 ],
 "metadata": {
  "kernelspec": {
   "display_name": "Python 3",
   "language": "python",
   "name": "python3"
  },
  "language_info": {
   "codemirror_mode": {
    "name": "ipython",
    "version": 3
   },
   "file_extension": ".py",
   "mimetype": "text/x-python",
   "name": "python",
   "nbconvert_exporter": "python",
   "pygments_lexer": "ipython3",
   "version": "3.6.4"
  }
 },
 "nbformat": 4,
 "nbformat_minor": 2
}
